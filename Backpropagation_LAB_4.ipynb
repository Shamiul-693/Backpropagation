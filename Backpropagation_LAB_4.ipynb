{
  "nbformat": 4,
  "nbformat_minor": 0,
  "metadata": {
    "colab": {
      "provenance": [],
      "collapsed_sections": []
    },
    "kernelspec": {
      "name": "python3",
      "display_name": "Python 3"
    },
    "language_info": {
      "name": "python"
    }
  },
  "cells": [
    {
      "cell_type": "markdown",
      "source": [
        "### Read the Backpropagation Algorithm first"
      ],
      "metadata": {
        "id": "J0Djc7LEfR6X"
      }
    },
    {
      "cell_type": "code",
      "source": [
        "# importing necessary libraries\n",
        "import pandas as pd\n",
        "import numpy as np\n",
        "import matplotlib.pyplot as plt"
      ],
      "metadata": {
        "id": "vyUOcUUZfcOv"
      },
      "execution_count": null,
      "outputs": []
    },
    {
      "cell_type": "code",
      "source": [
        "# Taking a regression dataset\n",
        "# Price increased according to room number and size\n",
        "df = pd.DataFrame([[8,10,8],[5,6,5],[9,7,7],[3,5,4]], columns=['room', 'size', 'price'])\n",
        "#df = pd.DataFrame([[2,3,8]], columns=['room', 'size', 'price'])"
      ],
      "metadata": {
        "id": "LPhzEatofVRw"
      },
      "execution_count": null,
      "outputs": []
    },
    {
      "cell_type": "code",
      "source": [
        "df"
      ],
      "metadata": {
        "colab": {
          "base_uri": "https://localhost:8080/",
          "height": 175
        },
        "id": "LYum_2SYfgKN",
        "outputId": "0bbc4ebc-ed9f-4476-ba77-b48a4a049859"
      },
      "execution_count": null,
      "outputs": [
        {
          "output_type": "execute_result",
          "data": {
            "text/plain": [
              "   room  size  price\n",
              "0     8    10      8\n",
              "1     5     6      5\n",
              "2     9     7      7\n",
              "3     3     5      4"
            ],
            "text/html": [
              "\n",
              "  <div id=\"df-68e26a37-e1a7-45a8-9b1d-1932a5a4be39\">\n",
              "    <div class=\"colab-df-container\">\n",
              "      <div>\n",
              "<style scoped>\n",
              "    .dataframe tbody tr th:only-of-type {\n",
              "        vertical-align: middle;\n",
              "    }\n",
              "\n",
              "    .dataframe tbody tr th {\n",
              "        vertical-align: top;\n",
              "    }\n",
              "\n",
              "    .dataframe thead th {\n",
              "        text-align: right;\n",
              "    }\n",
              "</style>\n",
              "<table border=\"1\" class=\"dataframe\">\n",
              "  <thead>\n",
              "    <tr style=\"text-align: right;\">\n",
              "      <th></th>\n",
              "      <th>room</th>\n",
              "      <th>size</th>\n",
              "      <th>price</th>\n",
              "    </tr>\n",
              "  </thead>\n",
              "  <tbody>\n",
              "    <tr>\n",
              "      <th>0</th>\n",
              "      <td>8</td>\n",
              "      <td>10</td>\n",
              "      <td>8</td>\n",
              "    </tr>\n",
              "    <tr>\n",
              "      <th>1</th>\n",
              "      <td>5</td>\n",
              "      <td>6</td>\n",
              "      <td>5</td>\n",
              "    </tr>\n",
              "    <tr>\n",
              "      <th>2</th>\n",
              "      <td>9</td>\n",
              "      <td>7</td>\n",
              "      <td>7</td>\n",
              "    </tr>\n",
              "    <tr>\n",
              "      <th>3</th>\n",
              "      <td>3</td>\n",
              "      <td>5</td>\n",
              "      <td>4</td>\n",
              "    </tr>\n",
              "  </tbody>\n",
              "</table>\n",
              "</div>\n",
              "      <button class=\"colab-df-convert\" onclick=\"convertToInteractive('df-68e26a37-e1a7-45a8-9b1d-1932a5a4be39')\"\n",
              "              title=\"Convert this dataframe to an interactive table.\"\n",
              "              style=\"display:none;\">\n",
              "        \n",
              "  <svg xmlns=\"http://www.w3.org/2000/svg\" height=\"24px\"viewBox=\"0 0 24 24\"\n",
              "       width=\"24px\">\n",
              "    <path d=\"M0 0h24v24H0V0z\" fill=\"none\"/>\n",
              "    <path d=\"M18.56 5.44l.94 2.06.94-2.06 2.06-.94-2.06-.94-.94-2.06-.94 2.06-2.06.94zm-11 1L8.5 8.5l.94-2.06 2.06-.94-2.06-.94L8.5 2.5l-.94 2.06-2.06.94zm10 10l.94 2.06.94-2.06 2.06-.94-2.06-.94-.94-2.06-.94 2.06-2.06.94z\"/><path d=\"M17.41 7.96l-1.37-1.37c-.4-.4-.92-.59-1.43-.59-.52 0-1.04.2-1.43.59L10.3 9.45l-7.72 7.72c-.78.78-.78 2.05 0 2.83L4 21.41c.39.39.9.59 1.41.59.51 0 1.02-.2 1.41-.59l7.78-7.78 2.81-2.81c.8-.78.8-2.07 0-2.86zM5.41 20L4 18.59l7.72-7.72 1.47 1.35L5.41 20z\"/>\n",
              "  </svg>\n",
              "      </button>\n",
              "      \n",
              "  <style>\n",
              "    .colab-df-container {\n",
              "      display:flex;\n",
              "      flex-wrap:wrap;\n",
              "      gap: 12px;\n",
              "    }\n",
              "\n",
              "    .colab-df-convert {\n",
              "      background-color: #E8F0FE;\n",
              "      border: none;\n",
              "      border-radius: 50%;\n",
              "      cursor: pointer;\n",
              "      display: none;\n",
              "      fill: #1967D2;\n",
              "      height: 32px;\n",
              "      padding: 0 0 0 0;\n",
              "      width: 32px;\n",
              "    }\n",
              "\n",
              "    .colab-df-convert:hover {\n",
              "      background-color: #E2EBFA;\n",
              "      box-shadow: 0px 1px 2px rgba(60, 64, 67, 0.3), 0px 1px 3px 1px rgba(60, 64, 67, 0.15);\n",
              "      fill: #174EA6;\n",
              "    }\n",
              "\n",
              "    [theme=dark] .colab-df-convert {\n",
              "      background-color: #3B4455;\n",
              "      fill: #D2E3FC;\n",
              "    }\n",
              "\n",
              "    [theme=dark] .colab-df-convert:hover {\n",
              "      background-color: #434B5C;\n",
              "      box-shadow: 0px 1px 3px 1px rgba(0, 0, 0, 0.15);\n",
              "      filter: drop-shadow(0px 1px 2px rgba(0, 0, 0, 0.3));\n",
              "      fill: #FFFFFF;\n",
              "    }\n",
              "  </style>\n",
              "\n",
              "      <script>\n",
              "        const buttonEl =\n",
              "          document.querySelector('#df-68e26a37-e1a7-45a8-9b1d-1932a5a4be39 button.colab-df-convert');\n",
              "        buttonEl.style.display =\n",
              "          google.colab.kernel.accessAllowed ? 'block' : 'none';\n",
              "\n",
              "        async function convertToInteractive(key) {\n",
              "          const element = document.querySelector('#df-68e26a37-e1a7-45a8-9b1d-1932a5a4be39');\n",
              "          const dataTable =\n",
              "            await google.colab.kernel.invokeFunction('convertToInteractive',\n",
              "                                                     [key], {});\n",
              "          if (!dataTable) return;\n",
              "\n",
              "          const docLinkHtml = 'Like what you see? Visit the ' +\n",
              "            '<a target=\"_blank\" href=https://colab.research.google.com/notebooks/data_table.ipynb>data table notebook</a>'\n",
              "            + ' to learn more about interactive tables.';\n",
              "          element.innerHTML = '';\n",
              "          dataTable['output_type'] = 'display_data';\n",
              "          await google.colab.output.renderOutput(dataTable, element);\n",
              "          const docLink = document.createElement('div');\n",
              "          docLink.innerHTML = docLinkHtml;\n",
              "          element.appendChild(docLink);\n",
              "        }\n",
              "      </script>\n",
              "    </div>\n",
              "  </div>\n",
              "  "
            ]
          },
          "metadata": {},
          "execution_count": 23
        }
      ]
    },
    {
      "cell_type": "code",
      "source": [
        "# this function initialize random weights and return it\n",
        "def initialize():\n",
        "  #layer 1 weights and biases\n",
        "  w11_1 = 1.2\n",
        "  w21_1 = 0.1\n",
        "  w12_1 = 0.1\n",
        "  w22_1 = 0.1\n",
        "  b11 = 0\n",
        "  b12 = 1\n",
        "\n",
        "\n",
        "  #layer 2 weights and biases\n",
        "  w11_2 = 0.1\n",
        "  w21_2 = 0.1\n",
        "  b21 = 0\n",
        "\n",
        "\n",
        "  return w11_1,w21_1,w12_1,w22_1,b11,b12,w11_2,w21_2,b21"
      ],
      "metadata": {
        "id": "mGP3ZpctfgwZ"
      },
      "execution_count": null,
      "outputs": []
    },
    {
      "cell_type": "code",
      "source": [
        "# calculate and return the value predicted by our model\n",
        "def forward_propagation(r,sz,w11_1,w21_1,w12_1,w22_1,b11,b12,w11_2,w21_2,b21):\n",
        "  o11 = w11_1*r+w21_1*sz+b11\n",
        "  o12 = w12_1*r+w22_1*sz+b12\n",
        "  o21 = o11*w11_2+o12*w21_2+b21\n",
        "  return o11,o12,o21\n"
      ],
      "metadata": {
        "id": "CRtz7j5Vhctt"
      },
      "execution_count": null,
      "outputs": []
    },
    {
      "cell_type": "code",
      "source": [
        "# Taking the values from our dataset\n",
        "# Initially df is a dataframe with column names, but we want the values only.\n",
        "X = df[['room','size']].values\n",
        "y = df['price'].values"
      ],
      "metadata": {
        "id": "pSl6mh14mHh2"
      },
      "execution_count": null,
      "outputs": []
    },
    {
      "cell_type": "code",
      "source": [
        "def backpropagation(X,Y):\n",
        "  losses=[]\n",
        "  epoch_losses=[]\n",
        "  w11_1,w21_1,w12_1,w22_1,b11,b12,w11_2,w21_2,b21=initialize()\n",
        "  epochs=200\n",
        "  print(\"Inital Weights:\",w11_1,w21_1,w12_1,w22_1,b11,b12,w11_2,w21_2,b21)\n",
        "\n",
        "\n",
        "# The outer loop decides how many times we take the whole dataset (known as Epoch)\n",
        "# The inner loop takes every data point and updates weights using backpropagation\n",
        "\n",
        "  for epcoh in range(epochs): # epoch is 25, you can change it\n",
        "    for i in range(X.shape[0]): # shape[0] defines the row number of X\n",
        "      r = X[i][0]\n",
        "      sz = X[i][1]\n",
        "      o11,o12,o21 = forward_propagation(r,sz,w11_1,w21_1,w12_1,w22_1,b11,b12,w11_2,w21_2,b21)\n",
        "      y_hat = o21\n",
        "      #print(\"y_hat\",y_hat)\n",
        "      y = Y[i]\n",
        "      loss = (y-y_hat)**2\n",
        "      #print(\"loss:\",loss)\n",
        "      losses.append(loss)\n",
        "      #updating parameters\n",
        "\n",
        "      #layer 2\n",
        "      w11_2 = w11_2- (0.001*(-2*(y-y_hat)*o11))\n",
        "      w21_2 = w21_2- (0.001*(-2*(y-y_hat)*o12))\n",
        "      b21 = b21- 0.001*(-2*(y-y_hat))\n",
        "\n",
        "\n",
        "      #layer 1 Neuron 1\n",
        "      w11_1 = w11_1- (0.001*(-2*(y-y_hat)*w11_2*r))\n",
        "      w21_1 = w21_1- (0.001*(-2*(y-y_hat)*w11_2*sz))\n",
        "      b11 = b11- (0.001*(-2*(y-y_hat)*w11_2))\n",
        "\n",
        "      w12_1 = w12_1- (0.001*(-2*(y-y_hat)*w21_2*r))\n",
        "      w22_1 = w22_1- (0.001*(-2*(y-y_hat)*w21_2*sz))\n",
        "      b12 = b12- (0.001*(-2*(y-y_hat)*w21_2))\n",
        "\n",
        "    parameters = [\"%.2f\" % v for v in (w11_1,w21_1,w12_1,w22_1,b11,b12,w11_2,w21_2,b21)]  \n",
        "    #print('parameters:',w11_1,w21_1,w12_1,w22_1,b11,b12,w11_2,w21_2,b21)\n",
        "    #print(twodecimals)\n",
        "    epoch_loss = np.array(losses).mean()\n",
        "    epoch_losses.append(epoch_loss)\n",
        "    #print(\"loss:\",epoch_loss)\n",
        "    print(f'Parameters:{parameters}  loss:{epoch_loss:.2f}')\n",
        "  return w11_1,w21_1,w12_1,w22_1,b11,b12,w11_2,w21_2,b21,epoch_losses"
      ],
      "metadata": {
        "id": "Ano7uT3ulw8Y"
      },
      "execution_count": null,
      "outputs": []
    },
    {
      "cell_type": "code",
      "source": [
        "w11_1,w21_1,w12_1,w22_1,b11,b12,w11_2,w21_2,b21,epoch_losses=backpropagation(X,y)"
      ],
      "metadata": {
        "colab": {
          "base_uri": "https://localhost:8080/"
        },
        "id": "JWSZgeRcxD1T",
        "outputId": "b15cd13b-3c19-4c29-cbfc-a323a3695130"
      },
      "execution_count": null,
      "outputs": [
        {
          "output_type": "stream",
          "name": "stdout",
          "text": [
            "Inital Weights: 1.2 0.1 0.1 0.1 0 1 0.1 0.1 0\n",
            "Parameters:['1.26', '0.17', '0.13', '0.13', '0.01', '1.00', '0.38', '0.18', '0.03']  loss:16.76\n",
            "Parameters:['1.29', '0.21', '0.14', '0.15', '0.01', '1.01', '0.48', '0.21', '0.04']  loss:9.81\n",
            "Parameters:['1.30', '0.22', '0.15', '0.16', '0.02', '1.01', '0.51', '0.22', '0.04']  loss:6.80\n",
            "Parameters:['1.30', '0.23', '0.15', '0.16', '0.02', '1.01', '0.51', '0.22', '0.05']  loss:5.24\n",
            "Parameters:['1.30', '0.23', '0.15', '0.16', '0.02', '1.01', '0.51', '0.23', '0.05']  loss:4.29\n",
            "Parameters:['1.30', '0.24', '0.15', '0.17', '0.02', '1.01', '0.51', '0.23', '0.05']  loss:3.66\n",
            "Parameters:['1.30', '0.24', '0.15', '0.17', '0.02', '1.01', '0.51', '0.23', '0.05']  loss:3.21\n",
            "Parameters:['1.30', '0.24', '0.15', '0.17', '0.02', '1.01', '0.51', '0.23', '0.05']  loss:2.87\n",
            "Parameters:['1.30', '0.25', '0.15', '0.17', '0.02', '1.01', '0.51', '0.23', '0.05']  loss:2.61\n",
            "Parameters:['1.30', '0.25', '0.15', '0.17', '0.02', '1.01', '0.50', '0.24', '0.05']  loss:2.40\n",
            "Parameters:['1.29', '0.26', '0.15', '0.17', '0.02', '1.01', '0.50', '0.24', '0.05']  loss:2.22\n",
            "Parameters:['1.29', '0.26', '0.15', '0.18', '0.02', '1.01', '0.50', '0.24', '0.06']  loss:2.08\n",
            "Parameters:['1.29', '0.26', '0.14', '0.18', '0.02', '1.01', '0.50', '0.24', '0.06']  loss:1.95\n",
            "Parameters:['1.29', '0.27', '0.14', '0.18', '0.02', '1.01', '0.50', '0.24', '0.06']  loss:1.85\n",
            "Parameters:['1.29', '0.27', '0.14', '0.18', '0.02', '1.01', '0.50', '0.25', '0.06']  loss:1.75\n",
            "Parameters:['1.29', '0.27', '0.14', '0.18', '0.02', '1.01', '0.49', '0.25', '0.06']  loss:1.67\n",
            "Parameters:['1.29', '0.28', '0.14', '0.18', '0.02', '1.01', '0.49', '0.25', '0.06']  loss:1.60\n",
            "Parameters:['1.29', '0.28', '0.14', '0.19', '0.02', '1.01', '0.49', '0.25', '0.06']  loss:1.53\n",
            "Parameters:['1.29', '0.28', '0.14', '0.19', '0.03', '1.01', '0.49', '0.25', '0.06']  loss:1.47\n",
            "Parameters:['1.29', '0.29', '0.14', '0.19', '0.03', '1.01', '0.49', '0.25', '0.06']  loss:1.42\n",
            "Parameters:['1.28', '0.29', '0.14', '0.19', '0.03', '1.01', '0.49', '0.26', '0.06']  loss:1.37\n",
            "Parameters:['1.28', '0.29', '0.14', '0.19', '0.03', '1.01', '0.49', '0.26', '0.07']  loss:1.33\n",
            "Parameters:['1.28', '0.30', '0.14', '0.19', '0.03', '1.01', '0.48', '0.26', '0.07']  loss:1.29\n",
            "Parameters:['1.28', '0.30', '0.14', '0.20', '0.03', '1.01', '0.48', '0.26', '0.07']  loss:1.25\n",
            "Parameters:['1.28', '0.30', '0.14', '0.20', '0.03', '1.01', '0.48', '0.26', '0.07']  loss:1.22\n",
            "Parameters:['1.28', '0.31', '0.14', '0.20', '0.03', '1.01', '0.48', '0.26', '0.07']  loss:1.18\n",
            "Parameters:['1.28', '0.31', '0.14', '0.20', '0.03', '1.01', '0.48', '0.27', '0.07']  loss:1.15\n",
            "Parameters:['1.28', '0.31', '0.14', '0.20', '0.03', '1.01', '0.48', '0.27', '0.07']  loss:1.13\n",
            "Parameters:['1.28', '0.32', '0.14', '0.20', '0.03', '1.01', '0.47', '0.27', '0.07']  loss:1.10\n",
            "Parameters:['1.28', '0.32', '0.14', '0.21', '0.03', '1.01', '0.47', '0.27', '0.07']  loss:1.08\n",
            "Parameters:['1.28', '0.32', '0.13', '0.21', '0.03', '1.01', '0.47', '0.27', '0.07']  loss:1.05\n",
            "Parameters:['1.27', '0.32', '0.13', '0.21', '0.03', '1.02', '0.47', '0.27', '0.07']  loss:1.03\n",
            "Parameters:['1.27', '0.33', '0.13', '0.21', '0.03', '1.02', '0.47', '0.28', '0.07']  loss:1.01\n",
            "Parameters:['1.27', '0.33', '0.13', '0.21', '0.03', '1.02', '0.47', '0.28', '0.08']  loss:0.99\n",
            "Parameters:['1.27', '0.33', '0.13', '0.21', '0.03', '1.02', '0.47', '0.28', '0.08']  loss:0.97\n",
            "Parameters:['1.27', '0.34', '0.13', '0.22', '0.03', '1.02', '0.47', '0.28', '0.08']  loss:0.95\n",
            "Parameters:['1.27', '0.34', '0.13', '0.22', '0.03', '1.02', '0.46', '0.28', '0.08']  loss:0.94\n",
            "Parameters:['1.27', '0.34', '0.13', '0.22', '0.03', '1.02', '0.46', '0.28', '0.08']  loss:0.92\n",
            "Parameters:['1.27', '0.34', '0.13', '0.22', '0.03', '1.02', '0.46', '0.29', '0.08']  loss:0.90\n",
            "Parameters:['1.27', '0.35', '0.13', '0.22', '0.03', '1.02', '0.46', '0.29', '0.08']  loss:0.89\n",
            "Parameters:['1.27', '0.35', '0.13', '0.22', '0.03', '1.02', '0.46', '0.29', '0.08']  loss:0.88\n",
            "Parameters:['1.27', '0.35', '0.13', '0.22', '0.04', '1.02', '0.46', '0.29', '0.08']  loss:0.86\n",
            "Parameters:['1.26', '0.35', '0.13', '0.23', '0.04', '1.02', '0.46', '0.29', '0.08']  loss:0.85\n",
            "Parameters:['1.26', '0.36', '0.13', '0.23', '0.04', '1.02', '0.46', '0.29', '0.08']  loss:0.84\n",
            "Parameters:['1.26', '0.36', '0.13', '0.23', '0.04', '1.02', '0.45', '0.30', '0.08']  loss:0.82\n",
            "Parameters:['1.26', '0.36', '0.13', '0.23', '0.04', '1.02', '0.45', '0.30', '0.09']  loss:0.81\n",
            "Parameters:['1.26', '0.36', '0.12', '0.23', '0.04', '1.02', '0.45', '0.30', '0.09']  loss:0.80\n",
            "Parameters:['1.26', '0.37', '0.12', '0.23', '0.04', '1.02', '0.45', '0.30', '0.09']  loss:0.79\n",
            "Parameters:['1.26', '0.37', '0.12', '0.24', '0.04', '1.02', '0.45', '0.30', '0.09']  loss:0.78\n",
            "Parameters:['1.26', '0.37', '0.12', '0.24', '0.04', '1.02', '0.45', '0.30', '0.09']  loss:0.77\n",
            "Parameters:['1.26', '0.37', '0.12', '0.24', '0.04', '1.02', '0.45', '0.30', '0.09']  loss:0.76\n",
            "Parameters:['1.26', '0.37', '0.12', '0.24', '0.04', '1.02', '0.45', '0.31', '0.09']  loss:0.75\n",
            "Parameters:['1.26', '0.38', '0.12', '0.24', '0.04', '1.02', '0.45', '0.31', '0.09']  loss:0.74\n",
            "Parameters:['1.25', '0.38', '0.12', '0.24', '0.04', '1.02', '0.44', '0.31', '0.09']  loss:0.73\n",
            "Parameters:['1.25', '0.38', '0.12', '0.24', '0.04', '1.02', '0.44', '0.31', '0.09']  loss:0.72\n",
            "Parameters:['1.25', '0.38', '0.12', '0.25', '0.04', '1.02', '0.44', '0.31', '0.09']  loss:0.72\n",
            "Parameters:['1.25', '0.39', '0.12', '0.25', '0.04', '1.02', '0.44', '0.31', '0.09']  loss:0.71\n",
            "Parameters:['1.25', '0.39', '0.12', '0.25', '0.04', '1.02', '0.44', '0.32', '0.09']  loss:0.70\n",
            "Parameters:['1.25', '0.39', '0.12', '0.25', '0.04', '1.02', '0.44', '0.32', '0.09']  loss:0.69\n",
            "Parameters:['1.25', '0.39', '0.12', '0.25', '0.04', '1.02', '0.44', '0.32', '0.10']  loss:0.68\n",
            "Parameters:['1.25', '0.39', '0.12', '0.25', '0.04', '1.02', '0.44', '0.32', '0.10']  loss:0.68\n",
            "Parameters:['1.25', '0.40', '0.12', '0.25', '0.04', '1.02', '0.44', '0.32', '0.10']  loss:0.67\n",
            "Parameters:['1.25', '0.40', '0.11', '0.26', '0.04', '1.02', '0.43', '0.32', '0.10']  loss:0.66\n",
            "Parameters:['1.25', '0.40', '0.11', '0.26', '0.04', '1.02', '0.43', '0.32', '0.10']  loss:0.65\n",
            "Parameters:['1.25', '0.40', '0.11', '0.26', '0.04', '1.02', '0.43', '0.33', '0.10']  loss:0.65\n",
            "Parameters:['1.25', '0.40', '0.11', '0.26', '0.04', '1.02', '0.43', '0.33', '0.10']  loss:0.64\n",
            "Parameters:['1.24', '0.41', '0.11', '0.26', '0.04', '1.02', '0.43', '0.33', '0.10']  loss:0.64\n",
            "Parameters:['1.24', '0.41', '0.11', '0.26', '0.04', '1.02', '0.43', '0.33', '0.10']  loss:0.63\n",
            "Parameters:['1.24', '0.41', '0.11', '0.26', '0.04', '1.02', '0.43', '0.33', '0.10']  loss:0.62\n",
            "Parameters:['1.24', '0.41', '0.11', '0.27', '0.04', '1.02', '0.43', '0.33', '0.10']  loss:0.62\n",
            "Parameters:['1.24', '0.41', '0.11', '0.27', '0.04', '1.02', '0.43', '0.33', '0.10']  loss:0.61\n",
            "Parameters:['1.24', '0.42', '0.11', '0.27', '0.04', '1.02', '0.43', '0.34', '0.10']  loss:0.61\n",
            "Parameters:['1.24', '0.42', '0.11', '0.27', '0.05', '1.02', '0.43', '0.34', '0.10']  loss:0.60\n",
            "Parameters:['1.24', '0.42', '0.11', '0.27', '0.05', '1.02', '0.42', '0.34', '0.10']  loss:0.59\n",
            "Parameters:['1.24', '0.42', '0.11', '0.27', '0.05', '1.02', '0.42', '0.34', '0.10']  loss:0.59\n",
            "Parameters:['1.24', '0.42', '0.11', '0.27', '0.05', '1.03', '0.42', '0.34', '0.11']  loss:0.58\n",
            "Parameters:['1.24', '0.42', '0.11', '0.28', '0.05', '1.03', '0.42', '0.34', '0.11']  loss:0.58\n",
            "Parameters:['1.24', '0.43', '0.10', '0.28', '0.05', '1.03', '0.42', '0.34', '0.11']  loss:0.57\n",
            "Parameters:['1.24', '0.43', '0.10', '0.28', '0.05', '1.03', '0.42', '0.35', '0.11']  loss:0.57\n",
            "Parameters:['1.24', '0.43', '0.10', '0.28', '0.05', '1.03', '0.42', '0.35', '0.11']  loss:0.56\n",
            "Parameters:['1.23', '0.43', '0.10', '0.28', '0.05', '1.03', '0.42', '0.35', '0.11']  loss:0.56\n",
            "Parameters:['1.23', '0.43', '0.10', '0.28', '0.05', '1.03', '0.42', '0.35', '0.11']  loss:0.55\n",
            "Parameters:['1.23', '0.43', '0.10', '0.28', '0.05', '1.03', '0.42', '0.35', '0.11']  loss:0.55\n",
            "Parameters:['1.23', '0.44', '0.10', '0.28', '0.05', '1.03', '0.42', '0.35', '0.11']  loss:0.54\n",
            "Parameters:['1.23', '0.44', '0.10', '0.29', '0.05', '1.03', '0.41', '0.35', '0.11']  loss:0.54\n",
            "Parameters:['1.23', '0.44', '0.10', '0.29', '0.05', '1.03', '0.41', '0.35', '0.11']  loss:0.54\n",
            "Parameters:['1.23', '0.44', '0.10', '0.29', '0.05', '1.03', '0.41', '0.36', '0.11']  loss:0.53\n",
            "Parameters:['1.23', '0.44', '0.10', '0.29', '0.05', '1.03', '0.41', '0.36', '0.11']  loss:0.53\n",
            "Parameters:['1.23', '0.44', '0.10', '0.29', '0.05', '1.03', '0.41', '0.36', '0.11']  loss:0.52\n",
            "Parameters:['1.23', '0.45', '0.10', '0.29', '0.05', '1.03', '0.41', '0.36', '0.11']  loss:0.52\n",
            "Parameters:['1.23', '0.45', '0.10', '0.29', '0.05', '1.03', '0.41', '0.36', '0.11']  loss:0.52\n",
            "Parameters:['1.23', '0.45', '0.10', '0.29', '0.05', '1.03', '0.41', '0.36', '0.11']  loss:0.51\n",
            "Parameters:['1.23', '0.45', '0.10', '0.30', '0.05', '1.03', '0.41', '0.36', '0.11']  loss:0.51\n",
            "Parameters:['1.23', '0.45', '0.09', '0.30', '0.05', '1.03', '0.41', '0.36', '0.11']  loss:0.50\n",
            "Parameters:['1.23', '0.45', '0.09', '0.30', '0.05', '1.03', '0.41', '0.37', '0.11']  loss:0.50\n",
            "Parameters:['1.22', '0.45', '0.09', '0.30', '0.05', '1.03', '0.41', '0.37', '0.12']  loss:0.50\n",
            "Parameters:['1.22', '0.46', '0.09', '0.30', '0.05', '1.03', '0.41', '0.37', '0.12']  loss:0.49\n",
            "Parameters:['1.22', '0.46', '0.09', '0.30', '0.05', '1.03', '0.40', '0.37', '0.12']  loss:0.49\n",
            "Parameters:['1.22', '0.46', '0.09', '0.30', '0.05', '1.03', '0.40', '0.37', '0.12']  loss:0.49\n",
            "Parameters:['1.22', '0.46', '0.09', '0.30', '0.05', '1.03', '0.40', '0.37', '0.12']  loss:0.48\n",
            "Parameters:['1.22', '0.46', '0.09', '0.31', '0.05', '1.03', '0.40', '0.37', '0.12']  loss:0.48\n",
            "Parameters:['1.22', '0.46', '0.09', '0.31', '0.05', '1.03', '0.40', '0.37', '0.12']  loss:0.47\n",
            "Parameters:['1.22', '0.46', '0.09', '0.31', '0.05', '1.03', '0.40', '0.38', '0.12']  loss:0.47\n",
            "Parameters:['1.22', '0.46', '0.09', '0.31', '0.05', '1.03', '0.40', '0.38', '0.12']  loss:0.47\n",
            "Parameters:['1.22', '0.47', '0.09', '0.31', '0.05', '1.03', '0.40', '0.38', '0.12']  loss:0.46\n",
            "Parameters:['1.22', '0.47', '0.09', '0.31', '0.05', '1.03', '0.40', '0.38', '0.12']  loss:0.46\n",
            "Parameters:['1.22', '0.47', '0.09', '0.31', '0.05', '1.03', '0.40', '0.38', '0.12']  loss:0.46\n",
            "Parameters:['1.22', '0.47', '0.09', '0.31', '0.05', '1.03', '0.40', '0.38', '0.12']  loss:0.46\n",
            "Parameters:['1.22', '0.47', '0.09', '0.31', '0.05', '1.03', '0.40', '0.38', '0.12']  loss:0.45\n",
            "Parameters:['1.22', '0.47', '0.08', '0.32', '0.05', '1.03', '0.40', '0.38', '0.12']  loss:0.45\n",
            "Parameters:['1.22', '0.47', '0.08', '0.32', '0.05', '1.03', '0.40', '0.38', '0.12']  loss:0.45\n",
            "Parameters:['1.21', '0.47', '0.08', '0.32', '0.05', '1.03', '0.39', '0.39', '0.12']  loss:0.44\n",
            "Parameters:['1.21', '0.48', '0.08', '0.32', '0.05', '1.03', '0.39', '0.39', '0.12']  loss:0.44\n",
            "Parameters:['1.21', '0.48', '0.08', '0.32', '0.05', '1.03', '0.39', '0.39', '0.12']  loss:0.44\n",
            "Parameters:['1.21', '0.48', '0.08', '0.32', '0.05', '1.03', '0.39', '0.39', '0.12']  loss:0.43\n",
            "Parameters:['1.21', '0.48', '0.08', '0.32', '0.05', '1.03', '0.39', '0.39', '0.12']  loss:0.43\n",
            "Parameters:['1.21', '0.48', '0.08', '0.32', '0.05', '1.03', '0.39', '0.39', '0.12']  loss:0.43\n",
            "Parameters:['1.21', '0.48', '0.08', '0.32', '0.05', '1.03', '0.39', '0.39', '0.12']  loss:0.43\n",
            "Parameters:['1.21', '0.48', '0.08', '0.33', '0.05', '1.03', '0.39', '0.39', '0.12']  loss:0.42\n",
            "Parameters:['1.21', '0.48', '0.08', '0.33', '0.05', '1.03', '0.39', '0.39', '0.13']  loss:0.42\n",
            "Parameters:['1.21', '0.48', '0.08', '0.33', '0.05', '1.03', '0.39', '0.40', '0.13']  loss:0.42\n",
            "Parameters:['1.21', '0.49', '0.08', '0.33', '0.05', '1.03', '0.39', '0.40', '0.13']  loss:0.42\n",
            "Parameters:['1.21', '0.49', '0.08', '0.33', '0.06', '1.03', '0.39', '0.40', '0.13']  loss:0.41\n",
            "Parameters:['1.21', '0.49', '0.08', '0.33', '0.06', '1.03', '0.39', '0.40', '0.13']  loss:0.41\n",
            "Parameters:['1.21', '0.49', '0.08', '0.33', '0.06', '1.03', '0.39', '0.40', '0.13']  loss:0.41\n",
            "Parameters:['1.21', '0.49', '0.08', '0.33', '0.06', '1.03', '0.39', '0.40', '0.13']  loss:0.41\n",
            "Parameters:['1.21', '0.49', '0.07', '0.33', '0.06', '1.03', '0.38', '0.40', '0.13']  loss:0.40\n",
            "Parameters:['1.21', '0.49', '0.07', '0.34', '0.06', '1.03', '0.38', '0.40', '0.13']  loss:0.40\n",
            "Parameters:['1.21', '0.49', '0.07', '0.34', '0.06', '1.03', '0.38', '0.40', '0.13']  loss:0.40\n",
            "Parameters:['1.21', '0.49', '0.07', '0.34', '0.06', '1.03', '0.38', '0.41', '0.13']  loss:0.40\n",
            "Parameters:['1.20', '0.49', '0.07', '0.34', '0.06', '1.03', '0.38', '0.41', '0.13']  loss:0.39\n",
            "Parameters:['1.20', '0.50', '0.07', '0.34', '0.06', '1.03', '0.38', '0.41', '0.13']  loss:0.39\n",
            "Parameters:['1.20', '0.50', '0.07', '0.34', '0.06', '1.03', '0.38', '0.41', '0.13']  loss:0.39\n",
            "Parameters:['1.20', '0.50', '0.07', '0.34', '0.06', '1.03', '0.38', '0.41', '0.13']  loss:0.39\n",
            "Parameters:['1.20', '0.50', '0.07', '0.34', '0.06', '1.03', '0.38', '0.41', '0.13']  loss:0.38\n",
            "Parameters:['1.20', '0.50', '0.07', '0.34', '0.06', '1.03', '0.38', '0.41', '0.13']  loss:0.38\n",
            "Parameters:['1.20', '0.50', '0.07', '0.34', '0.06', '1.03', '0.38', '0.41', '0.13']  loss:0.38\n",
            "Parameters:['1.20', '0.50', '0.07', '0.34', '0.06', '1.04', '0.38', '0.41', '0.13']  loss:0.38\n",
            "Parameters:['1.20', '0.50', '0.07', '0.35', '0.06', '1.04', '0.38', '0.41', '0.13']  loss:0.38\n",
            "Parameters:['1.20', '0.50', '0.07', '0.35', '0.06', '1.04', '0.38', '0.41', '0.13']  loss:0.37\n",
            "Parameters:['1.20', '0.50', '0.07', '0.35', '0.06', '1.04', '0.38', '0.42', '0.13']  loss:0.37\n",
            "Parameters:['1.20', '0.50', '0.07', '0.35', '0.06', '1.04', '0.38', '0.42', '0.13']  loss:0.37\n",
            "Parameters:['1.20', '0.51', '0.07', '0.35', '0.06', '1.04', '0.38', '0.42', '0.13']  loss:0.37\n",
            "Parameters:['1.20', '0.51', '0.07', '0.35', '0.06', '1.04', '0.38', '0.42', '0.13']  loss:0.36\n",
            "Parameters:['1.20', '0.51', '0.06', '0.35', '0.06', '1.04', '0.38', '0.42', '0.13']  loss:0.36\n",
            "Parameters:['1.20', '0.51', '0.06', '0.35', '0.06', '1.04', '0.37', '0.42', '0.13']  loss:0.36\n",
            "Parameters:['1.20', '0.51', '0.06', '0.35', '0.06', '1.04', '0.37', '0.42', '0.13']  loss:0.36\n",
            "Parameters:['1.20', '0.51', '0.06', '0.35', '0.06', '1.04', '0.37', '0.42', '0.13']  loss:0.36\n",
            "Parameters:['1.20', '0.51', '0.06', '0.35', '0.06', '1.04', '0.37', '0.42', '0.13']  loss:0.35\n",
            "Parameters:['1.20', '0.51', '0.06', '0.36', '0.06', '1.04', '0.37', '0.42', '0.13']  loss:0.35\n",
            "Parameters:['1.20', '0.51', '0.06', '0.36', '0.06', '1.04', '0.37', '0.42', '0.13']  loss:0.35\n",
            "Parameters:['1.20', '0.51', '0.06', '0.36', '0.06', '1.04', '0.37', '0.43', '0.14']  loss:0.35\n",
            "Parameters:['1.19', '0.51', '0.06', '0.36', '0.06', '1.04', '0.37', '0.43', '0.14']  loss:0.35\n",
            "Parameters:['1.19', '0.51', '0.06', '0.36', '0.06', '1.04', '0.37', '0.43', '0.14']  loss:0.35\n",
            "Parameters:['1.19', '0.52', '0.06', '0.36', '0.06', '1.04', '0.37', '0.43', '0.14']  loss:0.34\n",
            "Parameters:['1.19', '0.52', '0.06', '0.36', '0.06', '1.04', '0.37', '0.43', '0.14']  loss:0.34\n",
            "Parameters:['1.19', '0.52', '0.06', '0.36', '0.06', '1.04', '0.37', '0.43', '0.14']  loss:0.34\n",
            "Parameters:['1.19', '0.52', '0.06', '0.36', '0.06', '1.04', '0.37', '0.43', '0.14']  loss:0.34\n",
            "Parameters:['1.19', '0.52', '0.06', '0.36', '0.06', '1.04', '0.37', '0.43', '0.14']  loss:0.34\n",
            "Parameters:['1.19', '0.52', '0.06', '0.36', '0.06', '1.04', '0.37', '0.43', '0.14']  loss:0.33\n",
            "Parameters:['1.19', '0.52', '0.06', '0.36', '0.06', '1.04', '0.37', '0.43', '0.14']  loss:0.33\n",
            "Parameters:['1.19', '0.52', '0.06', '0.37', '0.06', '1.04', '0.37', '0.43', '0.14']  loss:0.33\n",
            "Parameters:['1.19', '0.52', '0.06', '0.37', '0.06', '1.04', '0.37', '0.44', '0.14']  loss:0.33\n",
            "Parameters:['1.19', '0.52', '0.05', '0.37', '0.06', '1.04', '0.37', '0.44', '0.14']  loss:0.33\n",
            "Parameters:['1.19', '0.52', '0.05', '0.37', '0.06', '1.04', '0.37', '0.44', '0.14']  loss:0.33\n",
            "Parameters:['1.19', '0.52', '0.05', '0.37', '0.06', '1.04', '0.37', '0.44', '0.14']  loss:0.32\n",
            "Parameters:['1.19', '0.52', '0.05', '0.37', '0.06', '1.04', '0.36', '0.44', '0.14']  loss:0.32\n",
            "Parameters:['1.19', '0.52', '0.05', '0.37', '0.06', '1.04', '0.36', '0.44', '0.14']  loss:0.32\n",
            "Parameters:['1.19', '0.52', '0.05', '0.37', '0.06', '1.04', '0.36', '0.44', '0.14']  loss:0.32\n",
            "Parameters:['1.19', '0.53', '0.05', '0.37', '0.06', '1.04', '0.36', '0.44', '0.14']  loss:0.32\n",
            "Parameters:['1.19', '0.53', '0.05', '0.37', '0.06', '1.04', '0.36', '0.44', '0.14']  loss:0.32\n",
            "Parameters:['1.19', '0.53', '0.05', '0.37', '0.06', '1.04', '0.36', '0.44', '0.14']  loss:0.32\n",
            "Parameters:['1.19', '0.53', '0.05', '0.37', '0.06', '1.04', '0.36', '0.44', '0.14']  loss:0.31\n",
            "Parameters:['1.19', '0.53', '0.05', '0.37', '0.06', '1.04', '0.36', '0.44', '0.14']  loss:0.31\n",
            "Parameters:['1.19', '0.53', '0.05', '0.38', '0.06', '1.04', '0.36', '0.44', '0.14']  loss:0.31\n",
            "Parameters:['1.19', '0.53', '0.05', '0.38', '0.06', '1.04', '0.36', '0.45', '0.14']  loss:0.31\n",
            "Parameters:['1.19', '0.53', '0.05', '0.38', '0.06', '1.04', '0.36', '0.45', '0.14']  loss:0.31\n",
            "Parameters:['1.19', '0.53', '0.05', '0.38', '0.06', '1.04', '0.36', '0.45', '0.14']  loss:0.31\n",
            "Parameters:['1.18', '0.53', '0.05', '0.38', '0.06', '1.04', '0.36', '0.45', '0.14']  loss:0.30\n",
            "Parameters:['1.18', '0.53', '0.05', '0.38', '0.06', '1.04', '0.36', '0.45', '0.14']  loss:0.30\n",
            "Parameters:['1.18', '0.53', '0.05', '0.38', '0.06', '1.04', '0.36', '0.45', '0.14']  loss:0.30\n",
            "Parameters:['1.18', '0.53', '0.05', '0.38', '0.06', '1.04', '0.36', '0.45', '0.14']  loss:0.30\n",
            "Parameters:['1.18', '0.53', '0.05', '0.38', '0.06', '1.04', '0.36', '0.45', '0.14']  loss:0.30\n",
            "Parameters:['1.18', '0.53', '0.05', '0.38', '0.06', '1.04', '0.36', '0.45', '0.14']  loss:0.30\n",
            "Parameters:['1.18', '0.53', '0.05', '0.38', '0.06', '1.04', '0.36', '0.45', '0.14']  loss:0.30\n",
            "Parameters:['1.18', '0.54', '0.04', '0.38', '0.06', '1.04', '0.36', '0.45', '0.14']  loss:0.29\n",
            "Parameters:['1.18', '0.54', '0.04', '0.38', '0.06', '1.04', '0.36', '0.45', '0.14']  loss:0.29\n",
            "Parameters:['1.18', '0.54', '0.04', '0.38', '0.06', '1.04', '0.36', '0.45', '0.14']  loss:0.29\n",
            "Parameters:['1.18', '0.54', '0.04', '0.39', '0.06', '1.04', '0.36', '0.45', '0.14']  loss:0.29\n",
            "Parameters:['1.18', '0.54', '0.04', '0.39', '0.06', '1.04', '0.36', '0.45', '0.14']  loss:0.29\n",
            "Parameters:['1.18', '0.54', '0.04', '0.39', '0.06', '1.04', '0.36', '0.46', '0.14']  loss:0.29\n",
            "Parameters:['1.18', '0.54', '0.04', '0.39', '0.06', '1.04', '0.36', '0.46', '0.14']  loss:0.29\n",
            "Parameters:['1.18', '0.54', '0.04', '0.39', '0.06', '1.04', '0.35', '0.46', '0.14']  loss:0.29\n",
            "Parameters:['1.18', '0.54', '0.04', '0.39', '0.06', '1.04', '0.35', '0.46', '0.14']  loss:0.28\n",
            "Parameters:['1.18', '0.54', '0.04', '0.39', '0.06', '1.04', '0.35', '0.46', '0.14']  loss:0.28\n",
            "Parameters:['1.18', '0.54', '0.04', '0.39', '0.06', '1.04', '0.35', '0.46', '0.14']  loss:0.28\n",
            "Parameters:['1.18', '0.54', '0.04', '0.39', '0.06', '1.04', '0.35', '0.46', '0.14']  loss:0.28\n",
            "Parameters:['1.18', '0.54', '0.04', '0.39', '0.06', '1.04', '0.35', '0.46', '0.14']  loss:0.28\n",
            "Parameters:['1.18', '0.54', '0.04', '0.39', '0.06', '1.04', '0.35', '0.46', '0.14']  loss:0.28\n",
            "Parameters:['1.18', '0.54', '0.04', '0.39', '0.06', '1.04', '0.35', '0.46', '0.14']  loss:0.28\n"
          ]
        }
      ]
    },
    {
      "cell_type": "code",
      "source": [
        "# This plot will show the loss curve over time.\n",
        "# clearly the loss is decreasing each time.\n",
        "x = np.arange(200)\n",
        "plt.plot(x,epoch_losses)"
      ],
      "metadata": {
        "colab": {
          "base_uri": "https://localhost:8080/",
          "height": 285
        },
        "id": "TbtFuCAR-3WG",
        "outputId": "514b56eb-1ff2-4acd-e99a-92b55e5bbad5"
      },
      "execution_count": null,
      "outputs": [
        {
          "output_type": "execute_result",
          "data": {
            "text/plain": [
              "[<matplotlib.lines.Line2D at 0x7f63bc9e4090>]"
            ]
          },
          "metadata": {},
          "execution_count": 29
        },
        {
          "output_type": "display_data",
          "data": {
            "text/plain": [
              "<Figure size 432x288 with 1 Axes>"
            ],
            "image/png": "[encoded data removed]"
          },
          "metadata": {
            "needs_background": "light"
          }
        }
      ]
    },
    {
      "cell_type": "code",
      "source": [
        "# visualizing the actual prediction and our model prediction\n",
        "# Blue is actual values, red is predicted by our model\n",
        "# more epochs may improve the loss \n",
        "\n",
        "fig,ax = plt.subplots()\n",
        "for i in range(10):\n",
        "  sample = np.random.randint(4)\n",
        "  o11=(w11_1* df['room'][sample])+(w21_1*df['size'][sample])+b11\n",
        "  o12=(w12_1* df['room'][sample])+(w22_1*df['size'][sample])+b12\n",
        "  o21=(o11*w11_2)+(o12*w21_2)+b21\n",
        "  actual = df['price'][sample]\n",
        "  ax.scatter(sample,actual,color='b')\n",
        "  ax.scatter(sample,o21,color='r')\n",
        "  print(f'Actual:{actual} Predicted:{o21}')"
      ],
      "metadata": {
        "colab": {
          "base_uri": "https://localhost:8080/",
          "height": 439
        },
        "id": "0nDSjYe49L74",
        "outputId": "e11deed9-d50c-4ac4-fc82-79cf3e7e360e"
      },
      "execution_count": null,
      "outputs": [
        {
          "output_type": "stream",
          "name": "stdout",
          "text": [
            "Actual:4 Predicted:3.806671953657124\n",
            "Actual:5 Predicted:5.04564298760106\n",
            "Actual:4 Predicted:3.806671953657124\n",
            "Actual:7 Predicted:7.151546346807214\n",
            "Actual:4 Predicted:3.806671953657124\n",
            "Actual:8 Predicted:7.83419631022125\n",
            "Actual:5 Predicted:5.04564298760106\n",
            "Actual:8 Predicted:7.83419631022125\n",
            "Actual:4 Predicted:3.806671953657124\n",
            "Actual:7 Predicted:7.151546346807214\n"
          ]
        },
        {
          "output_type": "display_data",
          "data": {
            "text/plain": [
              "<Figure size 432x288 with 1 Axes>"
            ],
            "image/png": "[encoded data removed]"
          },
          "metadata": {
            "needs_background": "light"
          }
        }
      ]
    }
  ]
}